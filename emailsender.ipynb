{
 "cells": [
  {
   "cell_type": "code",
   "execution_count": null,
   "metadata": {},
   "outputs": [],
   "source": [
    "import smtplib\n",
    "\n",
    "to = input(\"Enter the email of recipent: \\n\")\n",
    "content = input(\"Enter the content for mail:\\n\")\n",
    "def sendemail(to, content):\n",
    "    server = smtplib.SMTP('smtp.gmail.com',587)\n",
    "    server.ehlo()\n",
    "    server.starttls()\n",
    "    server.login('senderemail@gmail.com','1234')\n",
    "    server.sendmail('senderemail@gmail.com',to,content)\n",
    "    server.close()\n",
    "\n",
    "sendemail(to, content)"
   ]
  }
 ],
 "metadata": {
  "kernelspec": {
   "display_name": "Python 3",
   "language": "python",
   "name": "python3"
  },
  "language_info": {
   "name": "python",
   "version": "3.11.2"
  },
  "orig_nbformat": 4
 },
 "nbformat": 4,
 "nbformat_minor": 2
}
